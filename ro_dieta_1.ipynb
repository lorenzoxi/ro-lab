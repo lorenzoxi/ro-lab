{
 "cells": [
  {
   "cell_type": "code",
   "execution_count": 1,
   "metadata": {
    "colab": {
     "base_uri": "https://localhost:8080/"
    },
    "executionInfo": {
     "elapsed": 5644,
     "status": "ok",
     "timestamp": 1759569064560,
     "user": {
      "displayName": "Lorenzo Perinello",
      "userId": "05723559880079955243"
     },
     "user_tz": -120
    },
    "id": "eV23JCLuLSVB",
    "outputId": "611a4916-9345-466a-c4d0-7f4036dbb252"
   },
   "outputs": [
    {
     "name": "stdout",
     "output_type": "stream",
     "text": [
      "Requirement already satisfied: gurobipy in ./venv/lib/python3.13/site-packages (12.0.3)\n",
      "\n",
      "\u001b[1m[\u001b[0m\u001b[34;49mnotice\u001b[0m\u001b[1;39;49m]\u001b[0m\u001b[39;49m A new release of pip is available: \u001b[0m\u001b[31;49m25.0.1\u001b[0m\u001b[39;49m -> \u001b[0m\u001b[32;49m25.2\u001b[0m\n",
      "\u001b[1m[\u001b[0m\u001b[34;49mnotice\u001b[0m\u001b[1;39;49m]\u001b[0m\u001b[39;49m To update, run: \u001b[0m\u001b[32;49mpip install --upgrade pip\u001b[0m\n"
     ]
    }
   ],
   "source": [
    "! python -m pip install gurobipy"
   ]
  },
  {
   "cell_type": "code",
   "execution_count": null,
   "metadata": {
    "colab": {
     "base_uri": "https://localhost:8080/"
    },
    "executionInfo": {
     "elapsed": 33,
     "status": "ok",
     "timestamp": 1759569064595,
     "user": {
      "displayName": "Lorenzo Perinello",
      "userId": "05723559880079955243"
     },
     "user_tz": -120
    },
    "id": "egsYBuniKRel",
    "outputId": "0d3d510d-5f95-4e6c-8d32-a268d8c16ba4"
   },
   "outputs": [
    {
     "name": "stdout",
     "output_type": "stream",
     "text": [
      "Valore ottimo (costo): 20\n",
      "x[verdure] = 5\n",
      "x[carb] = -0\n",
      "x[frutta] = -0\n"
     ]
    }
   ],
   "source": [
    "from gurobipy import Model, GRB, quicksum\n",
    "\n",
    "\n",
    "# Insiemi\n",
    "# I = insieme delle risorse (verdure, carboidrati, frutta)\n",
    "I = [\"verdure\", \"carb\", \"frutta\"]   \n",
    "# J = insieme dei nutrienti (proteine, ferro, calcio)\n",
    "J = [\"pro\", \"fer\", \"cal\"]\n",
    "\n",
    "# Parametri\n",
    "## Costo per unità di risorsa i\n",
    "C = {\n",
    "    \"verdure\": 4,\n",
    "    \"carb\": 10,\n",
    "    \"frutta\": 7,\n",
    "}\n",
    "\n",
    "## Fabbisogno richiesto per nutriente j\n",
    "D = {\n",
    "    \"pro\": 20,\n",
    "    \"fer\": 30,\n",
    "    \"cal\": 10,\n",
    "}\n",
    "\n",
    "## Matrice dei coefficienti A[i,j] (quantità di nutriente j per unità di risorsa i)\n",
    "A = {\n",
    "    (\"verdure\", \"pro\"): 5,   (\"carb\", \"pro\"): 15,  (\"frutta\", \"pro\"): 4,\n",
    "    (\"verdure\", \"fer\"): 6,   (\"carb\", \"fer\"): 10,  (\"frutta\", \"fer\"): 5,\n",
    "    (\"verdure\", \"cal\"): 5,   (\"carb\", \"cal\"): 3,   (\"frutta\", \"cal\"): 12,\n",
    "}\n",
    "\n",
    "# Creazione modello\n",
    "m = Model(\"dieta\")\n",
    "m.setParam(\"OutputFlag\", 0)\n",
    "\n",
    "# Creazione variabili decisionali\n",
    "x = {i: m.addVar(vtype=GRB.INTEGER, lb=0, name=f\"x_{i}\") for i in I}\n",
    "\n",
    "# Definizione funzione obiettivo\n",
    "m.setObjective(quicksum(C[i] * x[i] for i in I), GRB.MINIMIZE)\n",
    "\n",
    "# Creazione vincoli\n",
    "for j in J:\n",
    "    m.addConstr(quicksum(A[i, j] * x[i] for i in I) >= D[j], name=f\"soddisfazione_{j}\")\n",
    "    # m.addConstr(sum(A[i, j] * x[i] for i in I) >= D[j], name=f\"soddisfazione[{j}]\")\n",
    "\n",
    "\n",
    "# Ottimizza\n",
    "m.optimize()\n",
    "\n",
    "# Salva modello su file\n",
    "m.write(\"dieta.lp\")\n",
    "\n",
    "# Stampa soluzione\n",
    "if m.status in (GRB.OPTIMAL, GRB.SUBOPTIMAL):\n",
    "    print(f\"Valore ottimo (costo): {m.objVal:.6g}\")\n",
    "    for i in I:\n",
    "        print(f\"x[{i}] = {x[i].X:.3g}\")\n",
    "else:\n",
    "    print(f\"Ottimizzazione terminata con stato {m.status}\")"
   ]
  }
 ],
 "metadata": {
  "colab": {
   "authorship_tag": "ABX9TyP2YgziKxMsn56/aUVvQrjL",
   "provenance": []
  },
  "kernelspec": {
   "display_name": "venv (3.13.3)",
   "language": "python",
   "name": "python3"
  },
  "language_info": {
   "codemirror_mode": {
    "name": "ipython",
    "version": 3
   },
   "file_extension": ".py",
   "mimetype": "text/x-python",
   "name": "python",
   "nbconvert_exporter": "python",
   "pygments_lexer": "ipython3",
   "version": "3.13.3"
  }
 },
 "nbformat": 4,
 "nbformat_minor": 0
}
