{
  "nbformat": 4,
  "nbformat_minor": 0,
  "metadata": {
    "colab": {
      "provenance": []
    },
    "kernelspec": {
      "name": "python3",
      "display_name": "Python 3"
    },
    "language_info": {
      "name": "python"
    }
  },
  "cells": [
    {
      "cell_type": "code",
      "execution_count": null,
      "metadata": {
        "colab": {
          "base_uri": "https://localhost:8080/"
        },
        "id": "5CECnGiRE-e0",
        "outputId": "106c844f-6b74-401d-f5d8-d2a50a913e28"
      },
      "outputs": [
        {
          "output_type": "stream",
          "name": "stdout",
          "text": [
            "Collecting gurobipy\n",
            "  Downloading gurobipy-12.0.3-cp312-cp312-manylinux2014_x86_64.manylinux_2_17_x86_64.whl.metadata (16 kB)\n",
            "Downloading gurobipy-12.0.3-cp312-cp312-manylinux2014_x86_64.manylinux_2_17_x86_64.whl (14.3 MB)\n",
            "\u001b[2K   \u001b[90m━━━━━━━━━━━━━━━━━━━━━━━━━━━━━━━━━━━━━━━━\u001b[0m \u001b[32m14.3/14.3 MB\u001b[0m \u001b[31m71.4 MB/s\u001b[0m eta \u001b[36m0:00:00\u001b[0m\n",
            "\u001b[?25hInstalling collected packages: gurobipy\n",
            "Successfully installed gurobipy-12.0.3\n"
          ]
        }
      ],
      "source": [
        "! python -m pip install gurobipy\n"
      ]
    },
    {
      "cell_type": "code",
      "source": [
        "from gurobipy import Model, GRB\n",
        "\n",
        "# Dati\n",
        "limite_ettari = 11\n",
        "limite_semi = 70\n",
        "limite_tuberi = 18\n",
        "limite_conc = 145\n",
        "semi_lattuga = 7\n",
        "tuberi_patate = 3\n",
        "concime_richiesto_lattuga = crl = 10\n",
        "concime_richiesto_patate = crp = 20\n",
        "\n",
        "# Creazione del modello\n",
        "m = Model(\"contadino_2\")\n",
        "\n",
        "# Variabili (ettari) >= 0\n",
        "xL = m.addVar(name=\"xL\", vtype=GRB.INTEGER, lb=0.0, ub=GRB.INFINITY)  # ettari_lattuga\n",
        "xP = m.addVar(name=\"xP\", vtype=GRB.INTEGER, lb=0.0)                   # ettari_patate\n",
        "\n",
        "# Vincoli\n",
        "m.addConstr(xL + xP <= limite_ettari, name=\"ettari\")\n",
        "m.addConstr(semi_lattuga * xL <= limite_semi, name=\"semi\")\n",
        "m.addConstr(tuberi_patate * xP <= limite_tuberi, name=\"tuberi\")\n",
        "m.addConstr(crl * xL + crp * xP <= 145, name=\"conc\")\n",
        "\n",
        "# Funzione obiettivo: massimizza resa\n",
        "m.setObjective(3000 * xL + 5000 * xP, GRB.MAXIMIZE)\n",
        "\n",
        "# Ottimizza\n",
        "m.optimize()\n",
        "\n",
        "# VISUALIZZAZIONE RISULTATI\n",
        "\n",
        "valore_xL = m.getVarByName(\"xL\").X\n",
        "valore_xP = m.getVarByName(\"xP\").X\n",
        "valore_obj = m.objVal\n",
        "\n",
        "print(f\"========================================================\")\n",
        "print(f\"Il valore di xL è {valore_xL}\")\n",
        "print(f\"Il valore di xP è {valore_xP}\")\n",
        "print(f\"Il valore della funzione obiettivo è {valore_obj}\")\n",
        "print(f\"========================================================\")\n"
      ],
      "metadata": {
        "colab": {
          "base_uri": "https://localhost:8080/"
        },
        "id": "zIiOS357FMKQ",
        "outputId": "31dadcaf-b4ab-4658-c4ac-9f66d3864d49"
      },
      "execution_count": null,
      "outputs": [
        {
          "output_type": "stream",
          "name": "stdout",
          "text": [
            "Gurobi Optimizer version 12.0.3 build v12.0.3rc0 (linux64 - \"Ubuntu 22.04.4 LTS\")\n",
            "\n",
            "CPU model: Intel(R) Xeon(R) CPU @ 2.20GHz, instruction set [SSE2|AVX|AVX2]\n",
            "Thread count: 1 physical cores, 2 logical processors, using up to 2 threads\n",
            "\n",
            "Optimize a model with 4 rows, 2 columns and 6 nonzeros\n",
            "Model fingerprint: 0x06ca7e0a\n",
            "Variable types: 0 continuous, 2 integer (0 binary)\n",
            "Coefficient statistics:\n",
            "  Matrix range     [1e+00, 2e+01]\n",
            "  Objective range  [3e+03, 5e+03]\n",
            "  Bounds range     [0e+00, 0e+00]\n",
            "  RHS range        [1e+01, 1e+02]\n",
            "Found heuristic solution: objective 35000.000000\n",
            "Presolve removed 2 rows and 0 columns\n",
            "Presolve time: 0.00s\n",
            "Presolved: 2 rows, 2 columns, 4 nonzeros\n",
            "Variable types: 0 continuous, 2 integer (0 binary)\n",
            "\n",
            "Root relaxation: objective 3.900000e+04, 2 iterations, 0.00 seconds (0.00 work units)\n",
            "\n",
            "    Nodes    |    Current Node    |     Objective Bounds      |     Work\n",
            " Expl Unexpl |  Obj  Depth IntInf | Incumbent    BestBd   Gap | It/Node Time\n",
            "\n",
            "*    0     0               0    39000.000000 39000.0000  0.00%     -    0s\n",
            "\n",
            "Explored 1 nodes (2 simplex iterations) in 0.03 seconds (0.00 work units)\n",
            "Thread count was 2 (of 2 available processors)\n",
            "\n",
            "Solution count 2: 39000 35000 \n",
            "\n",
            "Optimal solution found (tolerance 1.00e-04)\n",
            "Best objective 3.900000000000e+04, best bound 3.900000000000e+04, gap 0.0000%\n",
            "========================================================\n",
            "Il valore di xL è 8.0\n",
            "Il valore di xP è 3.0\n",
            "Il valore della funzione obiettivo è 39000.0\n",
            "========================================================\n"
          ]
        }
      ]
    },
    {
      "cell_type": "code",
      "source": [],
      "metadata": {
        "id": "yy5-3iQexYvA"
      },
      "execution_count": null,
      "outputs": []
    }
  ]
}