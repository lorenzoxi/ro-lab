{
 "cells": [
  {
   "cell_type": "code",
   "execution_count": null,
   "metadata": {
    "colab": {
     "base_uri": "https://localhost:8080/"
    },
    "executionInfo": {
     "elapsed": 4531,
     "status": "ok",
     "timestamp": 1759570951377,
     "user": {
      "displayName": "Lorenzo Perinello",
      "userId": "05723559880079955243"
     },
     "user_tz": -120
    },
    "id": "-lbJKWIvDBtS",
    "outputId": "b28ea9a8-11ee-4e81-f018-d518d8a48669"
   },
   "outputs": [],
   "source": [
    "! python -m pip install gurobipy\n",
    "! python -m pip install pandas"
   ]
  },
  {
   "cell_type": "code",
   "execution_count": null,
   "metadata": {
    "colab": {
     "base_uri": "https://localhost:8080/"
    },
    "executionInfo": {
     "elapsed": 16,
     "status": "ok",
     "timestamp": 1759571267526,
     "user": {
      "displayName": "Lorenzo Perinello",
      "userId": "05723559880079955243"
     },
     "user_tz": -120
    },
    "id": "9pp7FV_DDFIi",
    "outputId": "c70822a6-e4f7-4961-da4c-5f8ccfc2898f"
   },
   "outputs": [],
   "source": [
    "import json\n",
    "import gurobipy as gp\n",
    "from gurobipy import GRB\n",
    "import pandas as pd\n",
    "\n",
    "\n",
    "# Lettura file CSV\n",
    "df = pd.read_csv(\"data/dieta2.csv\")\n",
    "\"\"\"\n",
    "imposto la prima colonna ('i' in questo caso) come indice di riga per poter accedere ad una riga del file utilizzando .loc\n",
    "riga di codice equivalente per ottenere lo stesso risultato: df = df.set_index('i')\n",
    "\"\"\"\n",
    "idx = df.columns.tolist()[0]\n",
    "df = df.set_index(f'{idx}')\n",
    "\n",
    "# Definizione degli insiemi\n",
    "\"\"\"\n",
    "Ottengo l’insieme I (cibi disponibili):\n",
    "lista dei nomi delle colonne del dataframe, esclusa la colonna 'domanda'\n",
    "I = ['verdura', 'carne', 'pesce', ...]\n",
    "\"\"\"\n",
    "I = df.drop(columns=\"domanda\").columns.tolist()\n",
    "\n",
    "\"\"\"\n",
    "Ottengo l’insieme J (nutrienti):\n",
    "lista dei nomi delle righe del dataframe, esclusa la riga 'costo'\n",
    "J = ['proteine', 'ferro', 'calcio', ...]\n",
    "\"\"\"\n",
    "J = df.drop(index=\"costo\").index.tolist()\n",
    "\n",
    "# Definizione dei parametri\n",
    "\"\"\"\n",
    "Seleziono la riga con indice 'costo' e la converto in un dizionario:\n",
    "- chiavi = cibi (colonne del DataFrame)\n",
    "- valori = costo unitario di ciascun cibo\n",
    "\n",
    "C = { 'verdura': 2.0,\n",
    "      'carne': 1.5,\n",
    "      ... }\n",
    "\"\"\"\n",
    "C = df.loc[\"costo\"].to_dict()\n",
    "\n",
    "\n",
    "\"\"\"\n",
    "Seleziono la colonna 'domanda' e la converto in un dizionario:\n",
    "- chiavi = nutrienti (righe del DataFrame)\n",
    "- valori = quantità minima richiesta per ciascun nutriente\n",
    "\n",
    "D = { 'proteine': 50,\n",
    "      'ferro': 20,\n",
    "      ... }\n",
    "\"\"\"\n",
    "D = df[\"domanda\"].to_dict()\n",
    "\n",
    "\"\"\"\n",
    "Creo la matrice A eliminando le righe e le colonne 'costo' e 'domanda'\n",
    "- la riga 'costo' è eliminata perché non è un nutriente\n",
    "- la colonna 'domanda' è eliminata perché non è un cibo\n",
    "\n",
    "A[j,i] indica quanta quantità del nutriente j fornisce una unità del cibo i.\n",
    "NB: le righe = nutrienti, le colonne = cibi.\n",
    "\"\"\"\n",
    "A  = df.drop(index=\"costo\").drop(columns=\"domanda\")\n",
    "\n",
    "\n",
    "print(\"Costi (C):\", C)\n",
    "print(\"Domande (D):\", D)\n",
    "print(\"Matrice (A):\\n\", A)\n",
    "print(\"Cibi (I):\", I)\n",
    "print(\"Nutrienti (J):\", J)\n",
    "\n",
    "\n",
    "# Creazione modello\n",
    "m = gp.Model(\"dieta2\")\n",
    "m.setParam(\"OutputFlag\", 0)\n",
    "\n",
    "# Creazione variabili decisionali\n",
    "x = m.addVars(I, vtype=GRB.INTEGER, lb=0, name=\"x\")\n",
    "\n",
    "# Creazione vincoli\n",
    "for j in J:\n",
    "    sum = gp.quicksum(A.loc[j, i] * x[i] for i in I)\n",
    "    m.addConstr(\n",
    "        sum >= D[j],\n",
    "        name=f\"nutriente_{j}\",\n",
    "    )\n",
    "\n",
    "# Nuovo vincolo: almeno 3kg di alimenti a base di pesce azzurro\n",
    "m.addConstr(x['pesce'] >= 3)\n",
    "\n",
    "# Definizione o.f.\n",
    "m.setObjective(gp.quicksum(C[i] * x[i] for i in I), GRB.MINIMIZE)\n",
    "\n",
    "# Ottimizzazione\n",
    "m.optimize()\n",
    "\n",
    "# Visualizzazione risultati\n",
    "if m.status == GRB.OPTIMAL:\n",
    "    print(f\"O.f. (costo) = {m.objVal:.3f}\\n\")\n",
    "    for i in I:\n",
    "        print(f\"x[{i}] = {int(x[i].X):.2f}\")"
   ]
  },
  {
   "cell_type": "code",
   "execution_count": null,
   "metadata": {
    "id": "XAM0_Grhj7So"
   },
   "outputs": [],
   "source": []
  }
 ],
 "metadata": {
  "colab": {
   "authorship_tag": "ABX9TyPIgXloIiwVSIblQ12jQn7Y",
   "provenance": []
  },
  "kernelspec": {
   "display_name": "venv (3.13.3)",
   "language": "python",
   "name": "python3"
  },
  "language_info": {
   "codemirror_mode": {
    "name": "ipython",
    "version": 3
   },
   "file_extension": ".py",
   "mimetype": "text/x-python",
   "name": "python",
   "nbconvert_exporter": "python",
   "pygments_lexer": "ipython3",
   "version": "3.13.3"
  }
 },
 "nbformat": 4,
 "nbformat_minor": 0
}
