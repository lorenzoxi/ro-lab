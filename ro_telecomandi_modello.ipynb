{
 "cells": [
  {
   "cell_type": "code",
   "execution_count": null,
   "metadata": {
    "colab": {
     "base_uri": "https://localhost:8080/"
    },
    "executionInfo": {
     "elapsed": 6351,
     "status": "ok",
     "timestamp": 1759756511299,
     "user": {
      "displayName": "Lorenzo Perinello",
      "userId": "05723559880079955243"
     },
     "user_tz": -120
    },
    "id": "U0vkbzW_UfMi",
    "outputId": "205b6035-0c4f-44a8-dcdc-f3c6648d6b5f"
   },
   "outputs": [
    {
     "name": "stdout",
     "output_type": "stream",
     "text": [
      "Requirement already satisfied: gurobipy in ./venv/lib/python3.13/site-packages (12.0.3)\n",
      "\n",
      "\u001b[1m[\u001b[0m\u001b[34;49mnotice\u001b[0m\u001b[1;39;49m]\u001b[0m\u001b[39;49m A new release of pip is available: \u001b[0m\u001b[31;49m25.0.1\u001b[0m\u001b[39;49m -> \u001b[0m\u001b[32;49m25.2\u001b[0m\n",
      "\u001b[1m[\u001b[0m\u001b[34;49mnotice\u001b[0m\u001b[1;39;49m]\u001b[0m\u001b[39;49m To update, run: \u001b[0m\u001b[32;49mpip install --upgrade pip\u001b[0m\n",
      "Requirement already satisfied: pandas in ./venv/lib/python3.13/site-packages (2.3.3)\n",
      "Requirement already satisfied: numpy>=1.26.0 in ./venv/lib/python3.13/site-packages (from pandas) (2.3.3)\n",
      "Requirement already satisfied: python-dateutil>=2.8.2 in ./venv/lib/python3.13/site-packages (from pandas) (2.9.0.post0)\n",
      "Requirement already satisfied: pytz>=2020.1 in ./venv/lib/python3.13/site-packages (from pandas) (2025.2)\n",
      "Requirement already satisfied: tzdata>=2022.7 in ./venv/lib/python3.13/site-packages (from pandas) (2025.2)\n",
      "Requirement already satisfied: six>=1.5 in ./venv/lib/python3.13/site-packages (from python-dateutil>=2.8.2->pandas) (1.17.0)\n",
      "\n",
      "\u001b[1m[\u001b[0m\u001b[34;49mnotice\u001b[0m\u001b[1;39;49m]\u001b[0m\u001b[39;49m A new release of pip is available: \u001b[0m\u001b[31;49m25.0.1\u001b[0m\u001b[39;49m -> \u001b[0m\u001b[32;49m25.2\u001b[0m\n",
      "\u001b[1m[\u001b[0m\u001b[34;49mnotice\u001b[0m\u001b[1;39;49m]\u001b[0m\u001b[39;49m To update, run: \u001b[0m\u001b[32;49mpip install --upgrade pip\u001b[0m\n"
     ]
    }
   ],
   "source": [
    "! python -m pip install gurobipy\n",
    "! python -m pip install pandas"
   ]
  },
  {
   "cell_type": "code",
   "execution_count": 8,
   "metadata": {
    "colab": {
     "base_uri": "https://localhost:8080/"
    },
    "executionInfo": {
     "elapsed": 16,
     "status": "ok",
     "timestamp": 1759757974224,
     "user": {
      "displayName": "Lorenzo Perinello",
      "userId": "05723559880079955243"
     },
     "user_tz": -120
    },
    "id": "IVKTZ68eUmER",
    "outputId": "93250e4a-4a19-4b7b-84e4-d860f1a367fb"
   },
   "outputs": [
    {
     "name": "stdout",
     "output_type": "stream",
     "text": [
      "Beni (I): ['telecomando_A', 'telecomando_B']\n",
      "Risorse (J): ['display', 'logica', 'trasmettitori', 'tastierini', 'navigazione', 'led']\n",
      "Profitti (P): {'telecomando_A': 3.0, 'telecomando_B': 8.0, 'quantita': nan}\n",
      "Quantità (D): {'display': 10.0, 'logica': 18.0, 'trasmettitori': 12.0, 'tastierini': 21.0, 'navigazione': 9.0, 'led': 10.0, 'profitto': nan}\n",
      "Constraint Matrix (A):\n",
      "                telecomando_A  telecomando_B\n",
      "i                                          \n",
      "display                    1              2\n",
      "logica                     2              2\n",
      "trasmettitori              1              1\n",
      "tastierini                 2              3\n",
      "navigazione                1              0\n",
      "led                        1              1\n",
      "\n",
      "Model status: OPTIMAL\n",
      "Objective (costo) = 40\n",
      "\n",
      "x[telecomando_B] = 5\n"
     ]
    }
   ],
   "source": [
    "import json\n",
    "import gurobipy as gp\n",
    "from gurobipy import GRB\n",
    "import pandas as pd\n",
    "\n",
    "\n",
    "# LETTURA DEI DATI\n",
    "df = pd.read_csv(\"data/telecomandi.csv\")\n",
    "# imposto la colonna i come indice di riga per poter accedere ad una riga del file utilizzando .loc\n",
    "df = df.set_index('i')\n",
    "\n",
    "\n",
    "# Definizione degli insiemi\n",
    "## Insieme I dei beni  che possono essere prodotti\n",
    "\"\"\"\n",
    "Ottengo l’insieme I (beni da produrre):\n",
    "lista dei nomi delle colonne del dataframe, esclusa la colonna 'quantita'\n",
    "I = ['telecomando_A', 'telecomando_B']\n",
    "\"\"\"\n",
    "I = df.drop(columns=\"quantita\").columns.tolist()\n",
    "\n",
    "## Insieme J delle risorse disponibli\n",
    "\"\"\"\n",
    "Ottengo l’insieme J (risorse disponibili):\n",
    "lista dei nomi delle righe del dataframe, esclusa la riga 'profitto'\n",
    "J = ['display', 'logica', 'trasmettitori', 'tastierini', 'navigazione', 'led']\n",
    "\"\"\"\n",
    "J = df.drop(index=\"profitto\").index.tolist()\n",
    "\n",
    "# Definizione dei parametri\n",
    "## Parametri P: profitto unitario per il bene i in I\n",
    "\"\"\"\n",
    "seleziono la riga con indice 'profitto' e la converto in dizionario le cui chiavi saranno i valori delle colonne\n",
    "P = { 'telecomando_A' : 3.0,\n",
    "      'telecomando_B' : 8.0 }\n",
    "\"\"\"\n",
    "P = df.loc[\"profitto\"].to_dict()\n",
    "\n",
    "## Parametri Q: quantità disponibile della risorsa j in J\n",
    "\"\"\"\n",
    "seleziono la colonna 'quantita' e la converto in dizionario le cui chiavi saranno gli indici delle righe\n",
    "\n",
    "Q = { \"display\": 10,\n",
    "      \"logica\": 18,\n",
    "      \"trasmettitori\": 12,\n",
    "      \"tastierini\": 21,\n",
    "      \"navigazione\": 9,\n",
    "      \"led\": 10 }\n",
    "\"\"\"\n",
    "Q = df[\"quantita\"].to_dict()\n",
    "\n",
    "## Parametri A (matrice): quantità di risorsa j necessaria per la produzione di un'unità di del bene i\n",
    "\"\"\"\n",
    "rimuovo la riga 'profitto' e la colonna 'quantita' per ottenere la matrice A\n",
    "A[j,i] è la quantita di risorsa j necessaria per la produzione di un'unità di bene i\n",
    "NB: gli indici sono A_ji e non A_ij per come è strutturato il file csv\n",
    "\"\"\"\n",
    "A = df.drop(index=\"profitto\").drop(columns=\"quantita\")\n",
    "\n",
    "\n",
    "\n",
    "print(\"Beni (I):\", I)\n",
    "print(\"Risorse (J):\", J)\n",
    "print(\"Profitti (P):\", P)\n",
    "print(\"Quantità (D):\", Q)\n",
    "print(\"Constraint Matrix (A):\\n\", A)\n",
    "\n",
    "\n",
    "# Creazione modello\n",
    "m = gp.Model(\"mix_opt_telecomandi\")\n",
    "m.setParam(\"OutputFlag\", 0)\n",
    "\n",
    "# Creazione variabili decisionali\n",
    "x = {}\n",
    "for i in I:\n",
    "  x[f\"{i}\"] = m.addVar(vtype=GRB.INTEGER, lb=0, name=f\"x_{i}\")\n",
    "  # x[i] è equivalente\n",
    "\n",
    "# equivalente anche la seguente riga di codice\n",
    "# x = m.addVars(I, vtype=GRB.INTEGER, lb=0, name=\"x\")\n",
    "\n",
    "# Aggiunta vincoli\n",
    "for j in J:\n",
    "    sum = gp.quicksum(A.loc[j, i] * x[i] for i in I)\n",
    "    m.addConstr(\n",
    "        sum <= Q[j],\n",
    "        name=f\"vincolo_{j}\",\n",
    "    )\n",
    "\n",
    "# O.f.\n",
    "m.setObjective(gp.quicksum(P[i] * x[i] for i in I), GRB.MAXIMIZE)\n",
    "\n",
    "m.optimize()\n",
    "\n",
    "# Visualizzazione risultato\n",
    "status_names = {\n",
    "    GRB.OPTIMAL: \"OPTIMAL\",\n",
    "    GRB.SUBOPTIMAL: \"SUBOPTIMAL\",\n",
    "    GRB.INFEASIBLE: \"INFEASIBLE\",\n",
    "    GRB.UNBOUNDED: \"UNBOUNDED\",\n",
    "    GRB.INF_OR_UNBD: \"INF_OR_UNBD\",\n",
    "}\n",
    "print(f\"\\nModel status: {status_names.get(m.status, m.status)}\")\n",
    "\n",
    "if m.status == GRB.OPTIMAL:\n",
    "    print(f\"Objective (costo) = {m.objVal:.6g}\\n\")\n",
    "    for i in I:\n",
    "        if x[i].X > 1e-6:\n",
    "            print(f\"x[{i}] = {x[i].X:.0f}\")"
   ]
  }
 ],
 "metadata": {
  "colab": {
   "authorship_tag": "ABX9TyOnqCtAU0tkMG599rQNTCWv",
   "provenance": []
  },
  "kernelspec": {
   "display_name": "venv",
   "language": "python",
   "name": "python3"
  },
  "language_info": {
   "codemirror_mode": {
    "name": "ipython",
    "version": 3
   },
   "file_extension": ".py",
   "mimetype": "text/x-python",
   "name": "python",
   "nbconvert_exporter": "python",
   "pygments_lexer": "ipython3",
   "version": "3.13.3"
  }
 },
 "nbformat": 4,
 "nbformat_minor": 0
}
