{
 "cells": [
  {
   "cell_type": "code",
   "execution_count": 2,
   "metadata": {
    "colab": {
     "base_uri": "https://localhost:8080/"
    },
    "executionInfo": {
     "elapsed": 6351,
     "status": "ok",
     "timestamp": 1759756511299,
     "user": {
      "displayName": "Lorenzo Perinello",
      "userId": "05723559880079955243"
     },
     "user_tz": -120
    },
    "id": "U0vkbzW_UfMi",
    "outputId": "205b6035-0c4f-44a8-dcdc-f3c6648d6b5f"
   },
   "outputs": [
    {
     "name": "stdout",
     "output_type": "stream",
     "text": [
      "Collecting gurobipy\n",
      "  Downloading gurobipy-12.0.3-cp312-cp312-manylinux2014_x86_64.manylinux_2_17_x86_64.whl.metadata (16 kB)\n",
      "Downloading gurobipy-12.0.3-cp312-cp312-manylinux2014_x86_64.manylinux_2_17_x86_64.whl (14.3 MB)\n",
      "\u001b[2K   \u001b[90m━━━━━━━━━━━━━━━━━━━━━━━━━━━━━━━━━━━━━━━━\u001b[0m \u001b[32m14.3/14.3 MB\u001b[0m \u001b[31m91.7 MB/s\u001b[0m eta \u001b[36m0:00:00\u001b[0m\n",
      "\u001b[?25hInstalling collected packages: gurobipy\n",
      "Successfully installed gurobipy-12.0.3\n"
     ]
    }
   ],
   "source": [
    "! python -m pip install gurobipy"
   ]
  },
  {
   "cell_type": "code",
   "execution_count": null,
   "metadata": {
    "colab": {
     "base_uri": "https://localhost:8080/"
    },
    "executionInfo": {
     "elapsed": 16,
     "status": "ok",
     "timestamp": 1759757974224,
     "user": {
      "displayName": "Lorenzo Perinello",
      "userId": "05723559880079955243"
     },
     "user_tz": -120
    },
    "id": "IVKTZ68eUmER",
    "outputId": "93250e4a-4a19-4b7b-84e4-d860f1a367fb"
   },
   "outputs": [
    {
     "name": "stdout",
     "output_type": "stream",
     "text": [
      "<bound method NDFrame.head of                telecomando_A  telecomando_B  quantita\n",
      "i                                                    \n",
      "display                    1              2      10.0\n",
      "logica                     2              2      18.0\n",
      "trasmettitori              1              1      12.0\n",
      "tastierini                 2              3      21.0\n",
      "navigazione                1              0       9.0\n",
      "led                        1              1      10.0\n",
      "profitto                   3              8       NaN>\n",
      "{'display': 1, 'logica': 2, 'trasmettitori': 1, 'tastierini': 2, 'navigazione': 1, 'led': 1, 'profitto': 3}\n",
      "valore: 1\n",
      "Beni (I): ['telecomando_A', 'telecomando_B']\n",
      "Risorse (J): ['display', 'logica', 'trasmettitori', 'tastierini', 'navigazione', 'led']\n",
      "Profitti (P): {'telecomando_A': 3.0, 'telecomando_B': 8.0, 'quantita': nan}\n",
      "Quantità (D): {'display': 10.0, 'logica': 18.0, 'trasmettitori': 12.0, 'tastierini': 21.0, 'navigazione': 9.0, 'led': 10.0, 'profitto': nan}\n",
      "Constraint Matrix (A):\n",
      "                telecomando_A  telecomando_B\n",
      "i                                          \n",
      "display                    1              2\n",
      "logica                     2              2\n",
      "trasmettitori              1              1\n",
      "tastierini                 2              3\n",
      "navigazione                1              0\n",
      "led                        1              1\n",
      "\n",
      "Model status: OPTIMAL\n",
      "Objective (costo) = 40\n",
      "\n",
      "x[telecomando_B] = 5\n"
     ]
    }
   ],
   "source": [
    "import json\n",
    "import gurobipy as gp\n",
    "from gurobipy import GRB\n",
    "import pandas as pd\n",
    "\n",
    "\n",
    "# LETTURA DEI DATI\n",
    "df = pd.read_csv(\"telecomandi.csv\")\n",
    "# imposto la colonna i come indice di riga per poter accedere ad una riga del file utilizzando .loc\n",
    "df = df.set_index('i')\n",
    "\n",
    "print(df.head)\n",
    "\n",
    "\n",
    "# seleziono colonna indicizzata da \"quantita\"\n",
    "telecomando_A = df[\"telecomando_A\"].to_dict()\n",
    "print(telecomando_A)\n",
    "\n",
    "# DEFINIZIONE DEGLI INSIEMI\n",
    "## Parametri P: profitto unitario per il bene i in I\n",
    "\"\"\"\n",
    "seleziono la riga con indice 'profitto' e la converto in dizionario le cui chiavi saranno i valori delle colonne\n",
    "P = { 'telecomando_A' : 3.0,\n",
    "      'telecomando_B' : 8.0 }\n",
    "\"\"\"\n",
    "P = df.loc[\"profitto\"].to_dict()\n",
    "\n",
    "## Parametri Q: quantità disponibile della risorsa j in J\n",
    "\"\"\"\n",
    "seleziono la colonna 'quantita' e la converto in dizionario le cui chiavi saranno gli indici delle righe\n",
    "\n",
    "Q = { \"display\": 10,\n",
    "      \"logica\": 18,\n",
    "      \"trasmettitori\": 12,\n",
    "      \"tastierini\": 21,\n",
    "      \"navigazione\": 9,\n",
    "      \"led\": 10 }\n",
    "\"\"\"\n",
    "Q = df[\"quantita\"].to_dict()\n",
    "\n",
    "## Parametri A (matrice): quantità di risorsa j necessaria per la produzione di un'unità di del bene i\n",
    "\"\"\"\n",
    "rimuovo la riga 'profitto' e la colonna 'quantita' per ottenere la matrice A\n",
    "A[j,i] è la quantita di risorsa j necessaria per la produzione di un'unità di bene i\n",
    "NB: gli indici sono A_ji e non A_ij per come è strutturato il file csv\n",
    "\"\"\"\n",
    "A  = df.drop(index=\"profitto\").drop(columns=\"quantita\")\n",
    "\n",
    "## Insieme I dei beni  che possono essere prodotti\n",
    "\"\"\"\n",
    "seleziono i nomi delle colonne e li converto in lista\n",
    "I = ['telecomando_A', 'telecomando_B']\n",
    "\"\"\"\n",
    "I = A.columns.tolist()\n",
    "\n",
    "## Insieme J delle risorse disponibli\n",
    "\"\"\"\n",
    "seleziono gli indici delle righe e li converto in lista\n",
    "J = ['display', 'logica', 'trasmettitori', 'tastierini', 'navigazione', 'led']\n",
    "\"\"\"\n",
    "J = A.index.tolist()\n",
    "\n",
    "\n",
    "\n",
    "print(\"Beni (I):\", I)\n",
    "print(\"Risorse (J):\", J)\n",
    "print(\"Profitti (P):\", P)\n",
    "print(\"Quantità (D):\", Q)\n",
    "print(\"Constraint Matrix (A):\\n\", A)\n",
    "\n",
    "\n",
    "# Creazione modello\n",
    "m = gp.Model(\"mix_opt_telecomandi\")\n",
    "m.setParam(\"OutputFlag\", 0)\n",
    "\n",
    "# Creazione variabili decisionali\n",
    "x = {}\n",
    "for i in I:\n",
    "  x[f\"{i}\"] = m.addVar(vtype=GRB.INTEGER, lb=0, name=f\"x_{i}\")\n",
    "  # x[i] è equivalente\n",
    "\n",
    "# equivalente anche la seguente riga di codice\n",
    "# x = m.addVars(I, vtype=GRB.INTEGER, lb=0, name=\"x\")\n",
    "\n",
    "# Aggiunta vincoli\n",
    "for j in J:\n",
    "    sum = gp.quicksum(A.loc[j, i] * x[i] for i in I)\n",
    "    m.addConstr(\n",
    "        sum <= Q[j],\n",
    "        name=f\"vincolo_{j}\",\n",
    "    )\n",
    "\n",
    "# O.f.\n",
    "m.setObjective(gp.quicksum(P[i] * x[i] for i in I), GRB.MAXIMIZE)\n",
    "\n",
    "m.optimize()\n",
    "\n",
    "# Visualizzazione risultato\n",
    "status_names = {\n",
    "    GRB.OPTIMAL: \"OPTIMAL\",\n",
    "    GRB.SUBOPTIMAL: \"SUBOPTIMAL\",\n",
    "    GRB.INFEASIBLE: \"INFEASIBLE\",\n",
    "    GRB.UNBOUNDED: \"UNBOUNDED\",\n",
    "    GRB.INF_OR_UNBD: \"INF_OR_UNBD\",\n",
    "}\n",
    "print(f\"\\nModel status: {status_names.get(m.status, m.status)}\")\n",
    "\n",
    "if m.status == GRB.OPTIMAL:\n",
    "    print(f\"Objective (costo) = {m.objVal:.6g}\\n\")\n",
    "    for i in I:\n",
    "        if x[i].X > 1e-6:\n",
    "            print(f\"x[{i}] = {x[i].X:.0f}\")"
   ]
  },
  {
   "cell_type": "code",
   "execution_count": null,
   "metadata": {
    "id": "aJDTjR2gaU7T"
   },
   "outputs": [],
   "source": []
  }
 ],
 "metadata": {
  "colab": {
   "authorship_tag": "ABX9TyOnqCtAU0tkMG599rQNTCWv",
   "provenance": []
  },
  "kernelspec": {
   "display_name": "Python 3",
   "name": "python3"
  },
  "language_info": {
   "name": "python"
  }
 },
 "nbformat": 4,
 "nbformat_minor": 0
}
