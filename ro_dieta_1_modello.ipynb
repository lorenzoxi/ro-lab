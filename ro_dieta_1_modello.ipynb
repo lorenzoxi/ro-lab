{
 "cells": [
  {
   "cell_type": "code",
   "execution_count": 1,
   "metadata": {
    "colab": {
     "base_uri": "https://localhost:8080/"
    },
    "executionInfo": {
     "elapsed": 6045,
     "status": "ok",
     "timestamp": 1759569123915,
     "user": {
      "displayName": "Lorenzo Perinello",
      "userId": "05723559880079955243"
     },
     "user_tz": -120
    },
    "id": "-lbJKWIvDBtS",
    "outputId": "367fb983-9cad-4197-8aae-c3fce35f1624"
   },
   "outputs": [
    {
     "name": "stdout",
     "output_type": "stream",
     "text": [
      "Requirement already satisfied: gurobipy in ./venv/lib/python3.13/site-packages (12.0.3)\n",
      "\n",
      "\u001b[1m[\u001b[0m\u001b[34;49mnotice\u001b[0m\u001b[1;39;49m]\u001b[0m\u001b[39;49m A new release of pip is available: \u001b[0m\u001b[31;49m25.0.1\u001b[0m\u001b[39;49m -> \u001b[0m\u001b[32;49m25.2\u001b[0m\n",
      "\u001b[1m[\u001b[0m\u001b[34;49mnotice\u001b[0m\u001b[1;39;49m]\u001b[0m\u001b[39;49m To update, run: \u001b[0m\u001b[32;49mpip install --upgrade pip\u001b[0m\n",
      "Requirement already satisfied: pandas in ./venv/lib/python3.13/site-packages (2.3.3)\n",
      "Requirement already satisfied: numpy>=1.26.0 in ./venv/lib/python3.13/site-packages (from pandas) (2.3.3)\n",
      "Requirement already satisfied: python-dateutil>=2.8.2 in ./venv/lib/python3.13/site-packages (from pandas) (2.9.0.post0)\n",
      "Requirement already satisfied: pytz>=2020.1 in ./venv/lib/python3.13/site-packages (from pandas) (2025.2)\n",
      "Requirement already satisfied: tzdata>=2022.7 in ./venv/lib/python3.13/site-packages (from pandas) (2025.2)\n",
      "Requirement already satisfied: six>=1.5 in ./venv/lib/python3.13/site-packages (from python-dateutil>=2.8.2->pandas) (1.17.0)\n",
      "\n",
      "\u001b[1m[\u001b[0m\u001b[34;49mnotice\u001b[0m\u001b[1;39;49m]\u001b[0m\u001b[39;49m A new release of pip is available: \u001b[0m\u001b[31;49m25.0.1\u001b[0m\u001b[39;49m -> \u001b[0m\u001b[32;49m25.2\u001b[0m\n",
      "\u001b[1m[\u001b[0m\u001b[34;49mnotice\u001b[0m\u001b[1;39;49m]\u001b[0m\u001b[39;49m To update, run: \u001b[0m\u001b[32;49mpip install --upgrade pip\u001b[0m\n"
     ]
    }
   ],
   "source": [
    "! python -m pip install gurobipy\n",
    "! python -m pip install pandas"
   ]
  },
  {
   "cell_type": "code",
   "execution_count": null,
   "metadata": {
    "colab": {
     "base_uri": "https://localhost:8080/"
    },
    "executionInfo": {
     "elapsed": 12,
     "status": "ok",
     "timestamp": 1759571079393,
     "user": {
      "displayName": "Lorenzo Perinello",
      "userId": "05723559880079955243"
     },
     "user_tz": -120
    },
    "id": "9pp7FV_DDFIi",
    "outputId": "eeea9993-8ccf-4cf0-d422-76ff4dd4d500"
   },
   "outputs": [
    {
     "name": "stdout",
     "output_type": "stream",
     "text": [
      "Costi (C): {'verdura': 4.0, 'carne': 10.0, 'frutta': 7.0, 'domanda': nan}\n",
      "Domande (D): {'proteine': 20.0, 'ferro': 30.0, 'calcio': 10.0, 'costo': nan}\n",
      "Matrice (A):\n",
      "           verdura  carne  frutta\n",
      "i                               \n",
      "proteine        5     15       4\n",
      "ferro           6     10       5\n",
      "calcio          5      3      12\n",
      "Cibi (I): ['verdura', 'carne', 'frutta']\n",
      "Nutrienti (J): ['proteine', 'ferro', 'calcio']\n",
      "O.f. (costo) = 20.000\n",
      "\n",
      "x[verdura] = 5.00\n",
      "x[carne] = 0.00\n",
      "x[frutta] = 0.00\n"
     ]
    }
   ],
   "source": [
    "import json\n",
    "import gurobipy as gp\n",
    "from gurobipy import GRB\n",
    "import pandas as pd\n",
    "\n",
    "\n",
    "# Lettura file CSV\n",
    "df = pd.read_csv(\"data/dieta.csv\")\n",
    "\"\"\"\n",
    "imposto la prima colonna ('i' in questo caso) come indice di riga per poter accedere ad una riga del file utilizzando .loc\n",
    "riga di codice equivalente per ottenere lo stesso risultato: df = df.set_index('i')\n",
    "\"\"\"\n",
    "idx = df.columns.tolist()[0]\n",
    "df = df.set_index(f'{idx}')\n",
    "\n",
    "# Definizione degli insiemi\n",
    "\"\"\"\n",
    "Ottengo l’insieme I (cibi disponibili):\n",
    "lista dei nomi delle colonne del dataframe, esclusa la colonna 'domanda'\n",
    "I = ['pane', 'latte', 'uova', ...]\n",
    "\"\"\"\n",
    "I = df.drop(columns=\"domanda\").columns.tolist()\n",
    "\n",
    "\"\"\"\n",
    "Ottengo l’insieme J (nutrienti):\n",
    "lista dei nomi delle righe del dataframe, esclusa la riga 'costo'\n",
    "J = ['proteine', 'grassi', 'vitamine', ...]\n",
    "\"\"\"\n",
    "J = df.drop(index=\"costo\").index.tolist()\n",
    "\n",
    "\n",
    "# Definizione dei parametri del problema\n",
    "\"\"\"\n",
    "Seleziono la riga con indice 'costo' e la converto in un dizionario:\n",
    "- chiavi = cibi (colonne del DataFrame)\n",
    "- valori = costo unitario di ciascun cibo\n",
    "\n",
    "C = { 'pane': 2.0,\n",
    "      'latte': 1.5,\n",
    "      'uova': 0.8,\n",
    "      ... }\n",
    "\"\"\"\n",
    "C = df.loc[\"costo\"].to_dict()\n",
    "\n",
    "\n",
    "\"\"\"\n",
    "Seleziono la colonna 'domanda' e la converto in un dizionario:\n",
    "- chiavi = nutrienti (righe del DataFrame)\n",
    "- valori = quantità minima richiesta per ciascun nutriente\n",
    "\n",
    "D = { 'proteine': 50,\n",
    "      'grassi': 20,\n",
    "      'vitamine': 10,\n",
    "      ... }\n",
    "\"\"\"\n",
    "D = df[\"domanda\"].to_dict()\n",
    "\n",
    "\"\"\"\n",
    "Creo la matrice A eliminando le righe e le colonne 'costo' e 'domanda'\n",
    "- la riga 'costo' è eliminata perché non è un nutriente\n",
    "- la colonna 'domanda' è eliminata perché non è un cibo\n",
    "\n",
    "A[j,i] indica quanta quantità del nutriente j fornisce una unità del cibo i.\n",
    "NB: le righe = nutrienti, le colonne = cibi.\n",
    "\"\"\"\n",
    "A  = df.drop(index=\"costo\").drop(columns=\"domanda\")\n",
    "\n",
    "\n",
    "print(\"Costi (C):\", C)\n",
    "print(\"Domande (D):\", D)\n",
    "print(\"Matrice (A):\\n\", A)\n",
    "print(\"Cibi (I):\", I)\n",
    "print(\"Nutrienti (J):\", J)\n",
    "\n",
    "\n",
    "# Creazione modello\n",
    "m = gp.Model(\"dieta\")\n",
    "m.setParam(\"OutputFlag\", 0)\n",
    "\n",
    "# Creazione variabili decisionali\n",
    "x = m.addVars(I, vtype=GRB.INTEGER, lb=0, name=\"x\")\n",
    "\n",
    "# Creazione vincoli\n",
    "for j in J:\n",
    "    sum = gp.quicksum(A.loc[j, i] * x[i] for i in I)\n",
    "    m.addConstr(\n",
    "        sum >= D[j],\n",
    "        name=f\"nutriente_{j}\",\n",
    "    )\n",
    "\n",
    "# Definizione o.f.\n",
    "m.setObjective(gp.quicksum(C[i] * x[i] for i in I), GRB.MINIMIZE)\n",
    "\n",
    "# Ottimizzazione\n",
    "m.optimize()\n",
    "\n",
    "# Visualizzazione risultati\n",
    "if m.status == GRB.OPTIMAL:\n",
    "    print(f\"O.f. (costo) = {m.objVal:.3f}\\n\")\n",
    "    for i in I:\n",
    "        print(f\"x[{i}] = {int(x[i].X):.2f}\")"
   ]
  },
  {
   "cell_type": "code",
   "execution_count": null,
   "metadata": {
    "id": "XAM0_Grhj7So"
   },
   "outputs": [],
   "source": []
  }
 ],
 "metadata": {
  "colab": {
   "authorship_tag": "ABX9TyNxiEIAoMnmqLg9Gu8bCvzm",
   "provenance": []
  },
  "kernelspec": {
   "display_name": "venv",
   "language": "python",
   "name": "python3"
  },
  "language_info": {
   "codemirror_mode": {
    "name": "ipython",
    "version": 3
   },
   "file_extension": ".py",
   "mimetype": "text/x-python",
   "name": "python",
   "nbconvert_exporter": "python",
   "pygments_lexer": "ipython3",
   "version": "3.13.3"
  }
 },
 "nbformat": 4,
 "nbformat_minor": 0
}
