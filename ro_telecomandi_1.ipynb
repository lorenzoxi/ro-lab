{
 "cells": [
  {
   "cell_type": "code",
   "execution_count": 2,
   "metadata": {
    "colab": {
     "base_uri": "https://localhost:8080/"
    },
    "executionInfo": {
     "elapsed": 5540,
     "status": "ok",
     "timestamp": 1759564879366,
     "user": {
      "displayName": "Lorenzo Perinello",
      "userId": "05723559880079955243"
     },
     "user_tz": -120
    },
    "id": "gBcKJ3bcISd6",
    "outputId": "33a3c966-e227-4f3b-bb88-b744965a7c3b"
   },
   "outputs": [
    {
     "name": "stdout",
     "output_type": "stream",
     "text": [
      "Collecting gurobipy\n",
      "  Downloading gurobipy-12.0.3-cp312-cp312-manylinux2014_x86_64.manylinux_2_17_x86_64.whl.metadata (16 kB)\n",
      "Downloading gurobipy-12.0.3-cp312-cp312-manylinux2014_x86_64.manylinux_2_17_x86_64.whl (14.3 MB)\n",
      "\u001b[2K   \u001b[90m━━━━━━━━━━━━━━━━━━━━━━━━━━━━━━━━━━━━━━━━\u001b[0m \u001b[32m14.3/14.3 MB\u001b[0m \u001b[31m106.2 MB/s\u001b[0m eta \u001b[36m0:00:00\u001b[0m\n",
      "\u001b[?25hInstalling collected packages: gurobipy\n",
      "Successfully installed gurobipy-12.0.3\n"
     ]
    }
   ],
   "source": [
    "! python -m pip install gurobipy"
   ]
  },
  {
   "cell_type": "code",
   "execution_count": null,
   "metadata": {
    "colab": {
     "base_uri": "https://localhost:8080/"
    },
    "executionInfo": {
     "elapsed": 8,
     "status": "ok",
     "timestamp": 1759565108916,
     "user": {
      "displayName": "Lorenzo Perinello",
      "userId": "05723559880079955243"
     },
     "user_tz": -120
    },
    "id": "P8H_gtvtHUg6",
    "outputId": "fbcdfd80-4fc6-46bb-db96-dec15cbd42fe"
   },
   "outputs": [
    {
     "name": "stdout",
     "output_type": "stream",
     "text": [
      "Valore funzione obiettivo: 30.0\n",
      "xA = 6.0\n",
      "xB = 2.0\n"
     ]
    }
   ],
   "source": [
    "from gurobipy import Model, GRB\n",
    "\n",
    "# Dati\n",
    "profit_xA = 3\n",
    "profit_xB = 6\n",
    "\n",
    "limite_display = 10\n",
    "limite_nav = 9\n",
    "limite_tastierini = 21\n",
    "limite_logica = 18\n",
    "limite_trasmissione = 22\n",
    "limite_led = 10\n",
    "\n",
    "costo_display_xA = 1\n",
    "costo_display_xB = 2\n",
    "\n",
    "costo_tastierini_xA = 2\n",
    "costo_tastierini_xB = 3\n",
    "\n",
    "costo_logica_xA = 2\n",
    "costo_logica_xB = 3\n",
    "\n",
    "costo_trasmissione_xA = 1\n",
    "costo_trasmissione_xB = 3\n",
    "\n",
    "# Creazione del modello\n",
    "m = Model(\"telecomandi\")\n",
    "m.setParam('OutputFlag', 0)\n",
    "\n",
    "# Variabili decisionali\n",
    "xA = m.addVar(vtype=GRB.INTEGER, lb=0, name=\"xA\")\n",
    "xB = m.addVar(vtype=GRB.INTEGER, lb=0, name=\"xB\")\n",
    "\n",
    "# Funzione obiettivo: massimizza profitto\n",
    "m.setObjective(profit_xA * xA + profit_xB * xB, GRB.MAXIMIZE)\n",
    "\n",
    "# Vincoli\n",
    "m.addConstr(costo_display_xA * xA + costo_display_xB * xB <= limite_display, name=\"display\")\n",
    "m.addConstr(xA <= limite_nav, name=\"nav\")\n",
    "m.addConstr(costo_tastierini_xA * xA + costo_tastierini_xB * xB <= limite_tastierini, name=\"tastierini\")\n",
    "m.addConstr(costo_logica_xA * xA + costo_logica_xB * xB <= limite_logica, name=\"logica\")\n",
    "m.addConstr(costo_trasmissione_xA * xA + costo_trasmissione_xB * xB <= limite_trasmissione, name=\"trasmissione\")\n",
    "m.addConstr(xA <= limite_led, name=\"led\")\n",
    "\n",
    "m.update()\n",
    "\n",
    "# Esporta LP (opzionale)\n",
    "m.write(\"telecomandi.lp\")\n",
    "\n",
    "# Ottimizza\n",
    "m.optimize()\n",
    "\n",
    "# Stampa soluzione\n",
    "if m.status in [GRB.OPTIMAL, GRB.SUBOPTIMAL]:\n",
    "    print(\"Valore funzione obiettivo:\", m.objVal)\n",
    "    print(f\"xA = {xA.X}\")\n",
    "    print(f\"xB = {xB.X}\")\n",
    "else:\n",
    "    print(f\"Stato ottimizzazione: {m.status}\")"
   ]
  }
 ],
 "metadata": {
  "colab": {
   "authorship_tag": "ABX9TyPR1HZTL2K2zhn4JO29KiIU",
   "provenance": []
  },
  "kernelspec": {
   "display_name": "Python 3",
   "name": "python3"
  },
  "language_info": {
   "name": "python"
  }
 },
 "nbformat": 4,
 "nbformat_minor": 0
}
