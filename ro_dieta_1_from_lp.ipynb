{
 "cells": [
  {
   "cell_type": "code",
   "execution_count": 1,
   "metadata": {
    "colab": {
     "base_uri": "https://localhost:8080/"
    },
    "executionInfo": {
     "elapsed": 5644,
     "status": "ok",
     "timestamp": 1759569064560,
     "user": {
      "displayName": "Lorenzo Perinello",
      "userId": "05723559880079955243"
     },
     "user_tz": -120
    },
    "id": "eV23JCLuLSVB",
    "outputId": "611a4916-9345-466a-c4d0-7f4036dbb252"
   },
   "outputs": [
    {
     "name": "stdout",
     "output_type": "stream",
     "text": [
      "Collecting gurobipy\n",
      "  Downloading gurobipy-12.0.3-cp312-cp312-manylinux2014_x86_64.manylinux_2_17_x86_64.whl.metadata (16 kB)\n",
      "Downloading gurobipy-12.0.3-cp312-cp312-manylinux2014_x86_64.manylinux_2_17_x86_64.whl (14.3 MB)\n",
      "\u001b[2K   \u001b[90m━━━━━━━━━━━━━━━━━━━━━━━━━━━━━━━━━━━━━━━━\u001b[0m \u001b[32m14.3/14.3 MB\u001b[0m \u001b[31m103.0 MB/s\u001b[0m eta \u001b[36m0:00:00\u001b[0m\n",
      "\u001b[?25hInstalling collected packages: gurobipy\n",
      "Successfully installed gurobipy-12.0.3\n"
     ]
    }
   ],
   "source": [
    "! python -m pip install gurobipy"
   ]
  },
  {
   "cell_type": "code",
   "execution_count": null,
   "metadata": {
    "colab": {
     "base_uri": "https://localhost:8080/"
    },
    "executionInfo": {
     "elapsed": 33,
     "status": "ok",
     "timestamp": 1759569064595,
     "user": {
      "displayName": "Lorenzo Perinello",
      "userId": "05723559880079955243"
     },
     "user_tz": -120
    },
    "id": "egsYBuniKRel",
    "outputId": "0d3d510d-5f95-4e6c-8d32-a268d8c16ba4"
   },
   "outputs": [
    {
     "name": "stdout",
     "output_type": "stream",
     "text": [
      "Read LP format model from file data/dieta.lp\n",
      "Reading time = 0.00 seconds\n",
      ": 3 rows, 3 columns, 9 nonzeros\n",
      "Quantità di verdure: 5.0\n",
      "Quantità di carboidrati: -0.0\n",
      "Quantità di frutta: -0.0\n",
      "Costo totale: 20.0\n"
     ]
    }
   ],
   "source": [
    "from gurobipy import Model, GRB, quicksum, read\n",
    "\n",
    "# Creazione modello da file .lp\n",
    "modello = read(\"data/dieta.lp\")\n",
    "modello.setParam(\"OutputFlag\", 0)\n",
    "\n",
    "# Ottimizza\n",
    "modello.optimize()\n",
    "\n",
    "# Recupero variabili dal modello ottimizzato\n",
    "x_verdure = modello.getVarByName(\"x_verdure\")\n",
    "x_carb = modello.getVarByName(\"x_carb\")\n",
    "x_frutta = modello.getVarByName(\"x_frutta\")\n",
    "\n",
    "# Stampa i risultati\n",
    "print(f\"Quantità di verdure: {x_verdure.X}\")\n",
    "print(f\"Quantità di carboidrati: {x_carb.X}\")\n",
    "print(f\"Quantità di frutta: {x_frutta.X}\")\n",
    "print(f\"Costo totale: {modello.ObjVal}\")\n"
   ]
  }
 ],
 "metadata": {
  "colab": {
   "authorship_tag": "ABX9TyP2YgziKxMsn56/aUVvQrjL",
   "provenance": []
  },
  "kernelspec": {
   "display_name": "venv (3.13.3)",
   "language": "python",
   "name": "python3"
  },
  "language_info": {
   "codemirror_mode": {
    "name": "ipython",
    "version": 3
   },
   "file_extension": ".py",
   "mimetype": "text/x-python",
   "name": "python",
   "nbconvert_exporter": "python",
   "pygments_lexer": "ipython3",
   "version": "3.13.3"
  }
 },
 "nbformat": 4,
 "nbformat_minor": 0
}
