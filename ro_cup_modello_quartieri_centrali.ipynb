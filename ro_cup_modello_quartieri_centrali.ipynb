{
  "cells": [
    {
      "cell_type": "code",
      "execution_count": 1,
      "metadata": {
        "colab": {
          "base_uri": "https://localhost:8080/"
        },
        "id": "kJpjaUpdPc6N",
        "outputId": "55f9273c-33b3-4b28-e868-74b908dec5f9"
      },
      "outputs": [
        {
          "name": "stdout",
          "output_type": "stream",
          "text": [
            "Requirement already satisfied: gurobipy in ./venv/lib/python3.13/site-packages (12.0.3)\n",
            "\n",
            "\u001b[1m[\u001b[0m\u001b[34;49mnotice\u001b[0m\u001b[1;39;49m]\u001b[0m\u001b[39;49m A new release of pip is available: \u001b[0m\u001b[31;49m25.0.1\u001b[0m\u001b[39;49m -> \u001b[0m\u001b[32;49m25.2\u001b[0m\n",
            "\u001b[1m[\u001b[0m\u001b[34;49mnotice\u001b[0m\u001b[1;39;49m]\u001b[0m\u001b[39;49m To update, run: \u001b[0m\u001b[32;49mpip install --upgrade pip\u001b[0m\n",
            "Requirement already satisfied: pandas in ./venv/lib/python3.13/site-packages (2.3.3)\n",
            "Requirement already satisfied: numpy>=1.26.0 in ./venv/lib/python3.13/site-packages (from pandas) (2.3.3)\n",
            "Requirement already satisfied: python-dateutil>=2.8.2 in ./venv/lib/python3.13/site-packages (from pandas) (2.9.0.post0)\n",
            "Requirement already satisfied: pytz>=2020.1 in ./venv/lib/python3.13/site-packages (from pandas) (2025.2)\n",
            "Requirement already satisfied: tzdata>=2022.7 in ./venv/lib/python3.13/site-packages (from pandas) (2025.2)\n",
            "Requirement already satisfied: six>=1.5 in ./venv/lib/python3.13/site-packages (from python-dateutil>=2.8.2->pandas) (1.17.0)\n",
            "\n",
            "\u001b[1m[\u001b[0m\u001b[34;49mnotice\u001b[0m\u001b[1;39;49m]\u001b[0m\u001b[39;49m A new release of pip is available: \u001b[0m\u001b[31;49m25.0.1\u001b[0m\u001b[39;49m -> \u001b[0m\u001b[32;49m25.2\u001b[0m\n",
            "\u001b[1m[\u001b[0m\u001b[34;49mnotice\u001b[0m\u001b[1;39;49m]\u001b[0m\u001b[39;49m To update, run: \u001b[0m\u001b[32;49mpip install --upgrade pip\u001b[0m\n"
          ]
        }
      ],
      "source": [
        "! python -m pip install gurobipy\n",
        "! python -m pip install pandas"
      ]
    },
    {
      "cell_type": "code",
      "execution_count": null,
      "metadata": {
        "colab": {
          "base_uri": "https://localhost:8080/"
        },
        "id": "BgF3aN9iQ18k",
        "outputId": "32e7ee3e-82db-438d-f6ff-bf8771c04040"
      },
      "outputs": [
        {
          "name": "stdout",
          "output_type": "stream",
          "text": [
            "Località (I): ['loc1', 'loc2', 'loc3', 'loc4', 'loc5', 'loc6']\n",
            "Quartieri (J): ['1', '2', '3', '4', '5', '6']\n",
            "Costi (C): {'loc1': 1.0, 'loc2': 1.0, 'loc3': 1.0, 'loc4': 1.0, 'loc5': 1.0, 'loc6': 1.0, 'domanda': nan}\n",
            "Domande (D): {'1': 1.0, '2': 1.0, '3': 1.0, '4': 1.0, '5': 1.0, '6': 1.0, 'costo': nan}\n",
            "Coeff. (A):\n",
            "            loc1  loc2  loc3  loc4  loc5  loc6\n",
            "quartiere                                    \n",
            "1             1     1     0     0     0     0\n",
            "2             1     1     0     0     0     1\n",
            "3             0     0     1     1     0     0\n",
            "4             0     0     1     1     0     0\n",
            "5             0     0     0     1     1     0\n",
            "6             0     1     0     0     1     1\n",
            "Gurobi Optimizer version 12.0.3 build v12.0.3rc0 (mac64[arm] - Darwin 24.6.0 24G90)\n",
            "\n",
            "CPU model: Apple M2 Pro\n",
            "Thread count: 10 physical cores, 10 logical processors, using up to 10 threads\n",
            "\n",
            "Optimize a model with 6 rows, 6 columns and 14 nonzeros\n",
            "Model fingerprint: 0x486db3e9\n",
            "Variable types: 0 continuous, 6 integer (6 binary)\n",
            "Coefficient statistics:\n",
            "  Matrix range     [1e+00, 1e+00]\n",
            "  Objective range  [1e+00, 1e+00]\n",
            "  Bounds range     [1e+00, 1e+00]\n",
            "  RHS range        [1e+00, 1e+00]\n",
            "Found heuristic solution: objective 2.0000000\n",
            "Presolve removed 6 rows and 6 columns\n",
            "Presolve time: 0.00s\n",
            "Presolve: All rows and columns removed\n",
            "\n",
            "Explored 0 nodes (0 simplex iterations) in 0.01 seconds (0.00 work units)\n",
            "Thread count was 1 (of 10 available processors)\n",
            "\n",
            "Solution count 1: 2 \n",
            "\n",
            "Optimal solution found (tolerance 1.00e-04)\n",
            "Best objective 2.000000000000e+00, best bound 2.000000000000e+00, gap 0.0000%\n",
            "Obiettivo (numero di CUP aperti): 2\n",
            "CUP x[loc1] chiuso\n",
            "CUP x[loc2] aperto\n",
            "CUP x[loc3] chiuso\n",
            "CUP x[loc4] aperto\n",
            "CUP x[loc5] chiuso\n",
            "CUP x[loc6] chiuso\n"
          ]
        }
      ],
      "source": [
        "import pandas as pd\n",
        "import gurobipy as gp\n",
        "from gurobipy import GRB\n",
        "\n",
        "# Lettura file CSV\n",
        "df = pd.read_csv(\"data/cup.csv\")\n",
        "idx = df.columns.tolist()[0]\n",
        "df = df.set_index(f\"{idx}\")\n",
        "\n",
        "\n",
        "# Definizione degli insiemi\n",
        "\n",
        "## I: insieme delle località\n",
        "I = df.drop(columns=\"domanda\").columns.tolist()\n",
        "\n",
        "## J: insieme dei quartieri\n",
        "J = df.drop(index=\"costo\").index.tolist()\n",
        "\n",
        "# Definizione dei parametri\n",
        "\n",
        "## Costo apertura CUP nella località i\n",
        "C = df.loc[\"costo\"].to_dict()\n",
        "\n",
        "## Domanda di servizi CUP del quartiere j\n",
        "D = df[\"domanda\"].to_dict()\n",
        "\n",
        "## Matrice A, A_ij: tempo di spostamento dal quartiere j alla località i\n",
        "A = df.drop(index=\"costo\").drop(columns=\"domanda\")\n",
        "\n",
        "print(\"Località (I):\", I)\n",
        "print(\"Quartieri (J):\", J)\n",
        "print(\"Costi (C):\", C)\n",
        "print(\"Domande (D):\", D)\n",
        "print(\"Coeff. (A):\\n\", A)\n",
        "\n",
        "\n",
        "# Creazione modello\n",
        "m = gp.Model(\"modello_dieta_cup\")\n",
        "\n",
        "# Creazione variabili decisionali\n",
        "x = m.addVars(I, vtype=GRB.BINARY, lb=0, name=\"x\")\n",
        "\n",
        "V = [\"q1\", \"q2\"]\n",
        "\n",
        "# Creazione vincoli\n",
        "for j in J:\n",
        "    sum = gp.quicksum(A.loc[j, i] * x[i] for i in I)\n",
        "\n",
        "    copertura = D[j]\n",
        "    if j in V:\n",
        "        copertura = 2\n",
        "\n",
        "    m.addConstr(\n",
        "        sum >= copertura,\n",
        "        name=f\"resource_{j}\",\n",
        "    )\n",
        "\n",
        "# Definizione funzione obiettivo\n",
        "m.setObjective(gp.quicksum(C[i] * x[i] for i in I), GRB.MINIMIZE)\n",
        "\n",
        "# Ottimizza\n",
        "m.optimize()\n",
        "\n",
        "# Stampa risultati\n",
        "if m.status == GRB.OPTIMAL:\n",
        "    print(f\"Obiettivo (numero di CUP aperti): {m.objVal:.0f}\")\n",
        "    for i in I:\n",
        "        val = int(x[i].X)\n",
        "        if val > 0:\n",
        "            print(f\"CUP x[{i}] aperto\")\n",
        "        else:\n",
        "            print(f\"CUP x[{i}] chiuso\")\n",
        "\n",
        "elif m.status == GRB.INFEASIBLE:\n",
        "    print(\"Modello inammissibile: prova ad aumentare T o controlla i dati del CSV.\")\n",
        "else:\n",
        "    print(f\"Stato ottimizzazione: {m.status}\")"
      ]
    }
  ],
  "metadata": {
    "colab": {
      "provenance": []
    },
    "kernelspec": {
      "display_name": "venv (3.13.3)",
      "language": "python",
      "name": "python3"
    },
    "language_info": {
      "codemirror_mode": {
        "name": "ipython",
        "version": 3
      },
      "file_extension": ".py",
      "mimetype": "text/x-python",
      "name": "python",
      "nbconvert_exporter": "python",
      "pygments_lexer": "ipython3",
      "version": "3.13.3"
    }
  },
  "nbformat": 4,
  "nbformat_minor": 0
}
