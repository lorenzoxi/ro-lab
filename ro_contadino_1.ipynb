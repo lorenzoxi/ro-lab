{
  "cells": [
    {
      "cell_type": "code",
      "execution_count": null,
      "metadata": {
        "colab": {
          "base_uri": "https://localhost:8080/"
        },
        "id": "ZaeMwl-iNGbI",
        "outputId": "fd3c25e9-5e6b-4be4-f472-83869283a443"
      },
      "outputs": [
        {
          "name": "stdout",
          "output_type": "stream",
          "text": [
            "Collecting gurobipy\n",
            "  Downloading gurobipy-12.0.3-cp312-cp312-manylinux2014_x86_64.manylinux_2_17_x86_64.whl.metadata (16 kB)\n",
            "Downloading gurobipy-12.0.3-cp312-cp312-manylinux2014_x86_64.manylinux_2_17_x86_64.whl (14.3 MB)\n",
            "\u001b[?25l   \u001b[90m━━━━━━━━━━━━━━━━━━━━━━━━━━━━━━━━━━━━━━━━\u001b[0m \u001b[32m0.0/14.3 MB\u001b[0m \u001b[31m?\u001b[0m eta \u001b[36m-:--:--\u001b[0m\r\u001b[2K   \u001b[91m━━━━━━━━━━━━━━\u001b[0m\u001b[91m╸\u001b[0m\u001b[90m━━━━━━━━━━━━━━━━━━━━━━━━━\u001b[0m \u001b[32m5.2/14.3 MB\u001b[0m \u001b[31m154.4 MB/s\u001b[0m eta \u001b[36m0:00:01\u001b[0m\r\u001b[2K   \u001b[91m━━━━━━━━━━━━━━━━━━━━━━━━━━━━━━━━━\u001b[0m\u001b[91m╸\u001b[0m\u001b[90m━━━━━━\u001b[0m \u001b[32m12.1/14.3 MB\u001b[0m \u001b[31m189.1 MB/s\u001b[0m eta \u001b[36m0:00:01\u001b[0m\r\u001b[2K   \u001b[91m━━━━━━━━━━━━━━━━━━━━━━━━━━━━━━━━━━━━━━━\u001b[0m\u001b[91m╸\u001b[0m \u001b[32m14.3/14.3 MB\u001b[0m \u001b[31m196.1 MB/s\u001b[0m eta \u001b[36m0:00:01\u001b[0m\r\u001b[2K   \u001b[90m━━━━━━━━━━━━━━━━━━━━━━━━━━━━━━━━━━━━━━━━\u001b[0m \u001b[32m14.3/14.3 MB\u001b[0m \u001b[31m104.0 MB/s\u001b[0m eta \u001b[36m0:00:00\u001b[0m\n",
            "\u001b[?25hInstalling collected packages: gurobipy\n",
            "Successfully installed gurobipy-12.0.3\n"
          ]
        }
      ],
      "source": [
        "! python -m pip install gurobipy\n"
      ]
    },
    {
      "cell_type": "code",
      "execution_count": null,
      "metadata": {
        "colab": {
          "base_uri": "https://localhost:8080/"
        },
        "id": "2Y-4WJYJNMeT",
        "outputId": "241e97f8-bc0d-479b-dc36-3fb416993e47"
      },
      "outputs": [
        {
          "name": "stdout",
          "output_type": "stream",
          "text": [
            "Gurobi Optimizer version 12.0.3 build v12.0.3rc0 (linux64 - \"Ubuntu 22.04.4 LTS\")\n",
            "\n",
            "CPU model: Intel(R) Xeon(R) CPU @ 2.20GHz, instruction set [SSE2|AVX|AVX2]\n",
            "Thread count: 1 physical cores, 2 logical processors, using up to 2 threads\n",
            "\n",
            "Optimize a model with 4 rows, 2 columns and 6 nonzeros\n",
            "Model fingerprint: 0x06ca7e0a\n",
            "Variable types: 0 continuous, 2 integer (0 binary)\n",
            "Coefficient statistics:\n",
            "  Matrix range     [1e+00, 2e+01]\n",
            "  Objective range  [3e+03, 5e+03]\n",
            "  Bounds range     [0e+00, 0e+00]\n",
            "  RHS range        [1e+01, 1e+02]\n",
            "Found heuristic solution: objective 35000.000000\n",
            "Presolve removed 2 rows and 0 columns\n",
            "Presolve time: 0.00s\n",
            "Presolved: 2 rows, 2 columns, 4 nonzeros\n",
            "Variable types: 0 continuous, 2 integer (0 binary)\n",
            "\n",
            "Root relaxation: objective 3.900000e+04, 2 iterations, 0.00 seconds (0.00 work units)\n",
            "\n",
            "    Nodes    |    Current Node    |     Objective Bounds      |     Work\n",
            " Expl Unexpl |  Obj  Depth IntInf | Incumbent    BestBd   Gap | It/Node Time\n",
            "\n",
            "*    0     0               0    39000.000000 39000.0000  0.00%     -    0s\n",
            "\n",
            "Explored 1 nodes (2 simplex iterations) in 0.02 seconds (0.00 work units)\n",
            "Thread count was 2 (of 2 available processors)\n",
            "\n",
            "Solution count 2: 39000 35000 \n",
            "\n",
            "Optimal solution found (tolerance 1.00e-04)\n",
            "Best objective 3.900000000000e+04, best bound 3.900000000000e+04, gap 0.0000%\n",
            "========================================================\n",
            "Il valore di xL è 8.0\n",
            "Il valore di xP è 3.0\n",
            "Il valore della funzione obiettivo è 39000.0\n",
            "========================================================\n"
          ]
        }
      ],
      "source": [
        "from gurobipy import Model, GRB, LinExpr\n",
        "\n",
        "# CREAZIONE MODELLO\n",
        "m = Model(\"contadino_1\")\n",
        "\n",
        "# AGGIUNTA VARIABILI\n",
        "xL = m.addVar(name=\"xL\", vtype=GRB.CONTINUOUS, lb=0.0, ub=GRB.INFINITY) # ettari_lattuga\n",
        "xP = m.addVar(name=\"xP\", vtype=GRB.CONTINUOUS, lb=0.0, ub=GRB.INFINITY) # ettari_patate\n",
        "\n",
        "# AGGIUNTA VINCOLI\n",
        "m.addConstr(xL + xP <= 11, name=\"limite_ettari\")\n",
        "m.addConstr(7 * xL <= 70, name=\"limite_semi\")\n",
        "m.addConstr(3 * xP <= 18, name=\"limite_uberi\")\n",
        "m.addConstr(10 * xL + 20 * xP <= 145, name=\"limite_concime\")\n",
        "\n",
        "\n",
        "# DEFINIZIONE FUNZIONE OBIETTIVO\n",
        "m.setObjective(3000 * xL + 5000 * xP, GRB.MAXIMIZE)\n",
        "\n",
        "# DEFINIZIONE ALTERNATIVA ED EQUIVALENTE DELLA FUNZIONE OBIETTIVO\n",
        "expr = LinExpr(3000 * xL + 5000 * xP)\n",
        "m.setObjective(expr, GRB.MAXIMIZE)\n",
        "\n",
        "m.optimize()\n",
        "\n",
        "# VISUALIZZAZIONE RISULTATI\n",
        "\n",
        "valore_xL = xL.x\n",
        "valore_xP = xP.x\n",
        "valore_obj = m.objVal\n",
        "\n",
        "print(f\"========================================================\")\n",
        "print(f\"Il valore di xL è {valore_xL}\")\n",
        "print(f\"Il valore di xP è {valore_xP}\")\n",
        "print(f\"Il valore della funzione obiettivo è {valore_obj}\")\n",
        "print(f\"========================================================\")\n"
      ]
    },
    {
      "cell_type": "code",
      "execution_count": null,
      "metadata": {
        "id": "lQwhRtDWNql2"
      },
      "outputs": [],
      "source": []
    }
  ],
  "metadata": {
    "colab": {
      "provenance": []
    },
    "kernelspec": {
      "display_name": "Python 3",
      "name": "python3"
    },
    "language_info": {
      "name": "python"
    }
  },
  "nbformat": 4,
  "nbformat_minor": 0
}
